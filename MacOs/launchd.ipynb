{
 "cells": [
  {
   "cell_type": "markdown",
   "id": "induced-issue",
   "metadata": {},
   "source": [
    "# launchd"
   ]
  },
  {
   "cell_type": "markdown",
   "id": "clean-nepal",
   "metadata": {},
   "source": [
    "launchd 是MacOs 用来管理daemon(agent)的工具，我们可以用它来跑我们自己的脚本，完成Linux 下类似initd、systemd、crond 的功能。"
   ]
  },
  {
   "cell_type": "markdown",
   "id": "willing-living",
   "metadata": {},
   "source": [
    "launchd 进程是系统启动时第一个被内核（kernel）拉起的用来设置整个机器的进程，如果一个自定义的脚本/程序想被当作daemon 来运行的话，那么它应该被launchd 管理。"
   ]
  },
  {
   "cell_type": "markdown",
   "id": "protected-elimination",
   "metadata": {},
   "source": [
    "## Terminologies"
   ]
  },
  {
   "cell_type": "markdown",
   "id": "terminal-lewis",
   "metadata": {},
   "source": [
    "### Daemons"
   ]
  },
  {
   "cell_type": "markdown",
   "id": "exceptional-repeat",
   "metadata": {},
   "source": [
    "通常来说daemon 是在后台运行、不需要用户输入的程序。"
   ]
  },
  {
   "cell_type": "markdown",
   "id": "environmental-noise",
   "metadata": {},
   "source": [
    "### Agents"
   ]
  },
  {
   "cell_type": "markdown",
   "id": "grateful-luxury",
   "metadata": {},
   "source": [
    "在launchd 的语境下，agents 在本质上与daemons 是同样的东西，也是在后台运行、不需要用户输入的进程。与daemons不同的点在于daemon 是以root 身份运行的，而agents是以一个logged in 用户身份去跑的。\n",
    "他们都定义在类似的plist 里面，区分daemons 和agents的方式是看他们被放置在了哪个目录里面。"
   ]
  },
  {
   "cell_type": "markdown",
   "id": "romantic-sleeping",
   "metadata": {},
   "source": [
    "## Where to store"
   ]
  },
  {
   "cell_type": "markdown",
   "id": "atomic-employment",
   "metadata": {},
   "source": [
    "|Type|Location|Run on behalf of|\n",
    "|----|--------|----------------|\n",
    "|User Agents| `~/Library/LaunchAgents`|Currently logged in user|\n",
    "|Global Agents| `/Library/LaunchAgents`| Currently logged in user|\n",
    "|Global Daemons| `/library/LaunchDaemons`| root or the user specified with the key `UserName`|\n",
    "|System Agents| `System/Library/LaunchAgents` | Current logged in user|\n",
    "|System Aaemons| `/System/Library/LaunchDaemons`| root or the user specified withe the key `UserName`|\n"
   ]
  },
  {
   "cell_type": "markdown",
   "id": "hired-location",
   "metadata": {},
   "source": [
    "## What it looks like"
   ]
  },
  {
   "cell_type": "markdown",
   "id": "strategic-anatomy",
   "metadata": {},
   "source": [
    "**Example 1: Run specific script every 1 hour**\n",
    "```XML\n",
    "<?xml version=\"1.0\" encoding=\"UTF-8\"?>\n",
    "<!DOCTYPE plist PUBLIC \"-//Apple//DTD PLIST 1.0//EN\" \"http://www.apple.com/DTDs/PropertyList-1.0.dtd\">\n",
    "<plist version=\"1.0\">\n",
    "\t<dict>\n",
    "\t\t<key>Label</key>\n",
    "\t\t<string>com.example.app</string>\n",
    "\t\t<key>Program</key>\n",
    "\t\t<string>/Users/Me/Scripts/backup.sh</string>\n",
    "\t\t<key>KeepAlive</key>\n",
    "\t\t<dict>\n",
    "\t\t\t<key>PathState</key>\n",
    "\t\t\t<dict>\n",
    "\t\t\t\t<key>/var/log/mysql.pid</key>\n",
    "\t\t\t\t<true/>\n",
    "\t\t\t</dict>\n",
    "\t\t</dict>\n",
    "\t\t<key>ThrottleInterval</key>\n",
    "\t\t<integer>3600</integer>\n",
    "\t</dict>\n",
    "</plist>\n",
    "```\n",
    "\n",
    "For more examples: https://www.launchd.info#cookbook\n",
    "\n",
    "For more information of field references: https://www.launchd.info#configurations"
   ]
  },
  {
   "cell_type": "markdown",
   "id": "average-ridge",
   "metadata": {},
   "source": [
    "## Tools"
   ]
  },
  {
   "cell_type": "markdown",
   "id": "passive-witch",
   "metadata": {},
   "source": [
    "### GUI tool(LaunchControl)"
   ]
  },
  {
   "cell_type": "markdown",
   "id": "basic-motorcycle",
   "metadata": {},
   "source": [
    "official site: https://www.soma-zone.com/LaunchControl/\n"
   ]
  },
  {
   "cell_type": "markdown",
   "id": "based-reduction",
   "metadata": {},
   "source": [
    "# References"
   ]
  },
  {
   "cell_type": "markdown",
   "id": "prime-producer",
   "metadata": {},
   "source": [
    "* https://www.launchd.info/"
   ]
  }
 ],
 "metadata": {
  "kernelspec": {
   "display_name": "Python 3",
   "language": "python",
   "name": "python3"
  },
  "language_info": {
   "codemirror_mode": {
    "name": "ipython",
    "version": 3
   },
   "file_extension": ".py",
   "mimetype": "text/x-python",
   "name": "python",
   "nbconvert_exporter": "python",
   "pygments_lexer": "ipython3",
   "version": "3.8.8"
  }
 },
 "nbformat": 4,
 "nbformat_minor": 5
}
