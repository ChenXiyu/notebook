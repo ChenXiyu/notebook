{
 "cells": [
  {
   "cell_type": "markdown",
   "id": "mediterranean-brown",
   "metadata": {},
   "source": [
    "# launchd"
   ]
  },
  {
   "cell_type": "markdown",
   "id": "derived-operations",
   "metadata": {},
   "source": [
    "launchd 是MacOs 用来管理daemon(agent)的工具，我们可以用它来跑我们自己的脚本，完成Linux 地下Crond 的功能。"
   ]
  },
  {
   "cell_type": "markdown",
   "id": "oriental-formula",
   "metadata": {},
   "source": [
    "launchd 进程是系统气筒时第一个被内核（kernel）拉起的用来设置整个机器的进程，如果一个自定义的脚本/程序想被当作daemon 来运行的话，那么它应该被launchd 管理。"
   ]
  },
  {
   "cell_type": "markdown",
   "id": "recreational-scientist",
   "metadata": {},
   "source": [
    "## Terminologies"
   ]
  },
  {
   "cell_type": "markdown",
   "id": "checked-rachel",
   "metadata": {},
   "source": [
    "### Daemons"
   ]
  },
  {
   "cell_type": "markdown",
   "id": "varying-candy",
   "metadata": {},
   "source": [
    "通常来说daemon 是在后台运行、不需要用户输入的程序。"
   ]
  },
  {
   "cell_type": "markdown",
   "id": "sound-badge",
   "metadata": {},
   "source": [
    "### Agents"
   ]
  },
  {
   "cell_type": "markdown",
   "id": "accepted-stranger",
   "metadata": {},
   "source": [
    "在launchd 的语境下，agents 在本质上与daemons 是同样的东西，也是在后台运行、不需要用户输入的进程。与daemons不同的点在于daemon 是以root 身份运行的，而agents是以一个logged in 用户身份去跑的。\n",
    "他们都定义在类似的plist 里面，区分daemons 和agents的方式是看他们被放置在了哪个目录里面。"
   ]
  },
  {
   "cell_type": "markdown",
   "id": "amber-wagner",
   "metadata": {},
   "source": [
    "## Where to store"
   ]
  },
  {
   "cell_type": "markdown",
   "id": "textile-billy",
   "metadata": {},
   "source": [
    "|Type|Location|Run on behalf of|\n",
    "|----|--------|----------------|\n",
    "|User Agents| `~/Library/LaunchAgents`|Currently logged in user|\n",
    "|Global Agents| `/Library/LaunchAgents`| Currently logged in user|\n",
    "|Global Daemons| `/library/LaunchDaemons`| root or the user specified with the key `UserName`|\n",
    "|System Agents| `System/Library/LaunchAgents` | Current logged in user|\n",
    "|System Aaemons| `/System/Library/LaunchDaemons`| root or the user specified withe the key `UserName`|\n"
   ]
  },
  {
   "cell_type": "code",
   "execution_count": null,
   "id": "turkish-helping",
   "metadata": {},
   "outputs": [],
   "source": []
  }
 ],
 "metadata": {
  "kernelspec": {
   "display_name": "Python 3",
   "language": "python",
   "name": "python3"
  },
  "language_info": {
   "codemirror_mode": {
    "name": "ipython",
    "version": 3
   },
   "file_extension": ".py",
   "mimetype": "text/x-python",
   "name": "python",
   "nbconvert_exporter": "python",
   "pygments_lexer": "ipython3",
   "version": "3.8.8"
  }
 },
 "nbformat": 4,
 "nbformat_minor": 5
}
