{
 "cells": [
  {
   "cell_type": "markdown",
   "id": "missing-brush",
   "metadata": {},
   "source": [
    "# Terminologies"
   ]
  },
  {
   "cell_type": "markdown",
   "id": "corporate-scope",
   "metadata": {},
   "source": [
    "* Nexus Repository Manager Pro\n",
    "* Nexus Repository Manager OSS"
   ]
  },
  {
   "cell_type": "markdown",
   "id": "described-emerald",
   "metadata": {},
   "source": [
    "## Components\n",
    "Components is a more generic term of `artifacts`, `packages`, `bundles`, `archives` etc."
   ]
  },
  {
   "cell_type": "markdown",
   "id": "portable-jungle",
   "metadata": {},
   "source": [
    "## Assets\n",
    "The construct portion of Components, for example. docker image as a component, and the docker layer is the assets in this case. Asserts are usually reusable among multi-components."
   ]
  },
  {
   "cell_type": "markdown",
   "id": "continuing-prayer",
   "metadata": {},
   "source": [
    "## Repository\n",
    "The collection of components which aggregated by someway. like ruby gems."
   ]
  },
  {
   "cell_type": "markdown",
   "id": "corresponding-baseball",
   "metadata": {},
   "source": [
    "## Repository format\n",
    "generally repository format defines the type of the repository, as well as the way to interact with related tools(npm, bundler, docker. etc.)"
   ]
  },
  {
   "cell_type": "markdown",
   "id": "brazilian-winning",
   "metadata": {},
   "source": [
    "![relationships between Asserts, components,Repositorise](./Asserts/relationships-between-nexus-concepts.png)"
   ]
  },
  {
   "cell_type": "markdown",
   "id": "marked-cologne",
   "metadata": {},
   "source": [
    "## Repository types"
   ]
  },
  {
   "cell_type": "markdown",
   "id": "loving-forth",
   "metadata": {},
   "source": [
    "### Proxy Repository"
   ]
  },
  {
   "cell_type": "markdown",
   "id": "surrounded-netherlands",
   "metadata": {},
   "source": [
    "A repository that linked to the remote repository. like an layer of cache, any request to an component will reach the proxy repository first and the proxy repository will check the local component, if not found in local, proxy repository will forward the request to remote repository. the component then be retrieved and stored locally in the proxy repository."
   ]
  },
  {
   "cell_type": "markdown",
   "id": "resistant-reaction",
   "metadata": {},
   "source": [
    "### Host Repository"
   ]
  },
  {
   "cell_type": "markdown",
   "id": "ceramic-tract",
   "metadata": {},
   "source": [
    "A repository that stores components in the repository manager as the authoritative location for these components."
   ]
  },
  {
   "cell_type": "markdown",
   "id": "viral-banana",
   "metadata": {},
   "source": [
    "### Repository Group"
   ]
  },
  {
   "cell_type": "markdown",
   "id": "stainless-moisture",
   "metadata": {},
   "source": [
    "A powerful feature of Nexus Repository Manager. They allow you to combine multiple repositories and other repository groups in a single repository. This in turn means that your users can rely on a single URL for their configuration needs, while the administrators can add more repositories and therefore components to the repository group."
   ]
  },
  {
   "cell_type": "markdown",
   "id": "cultural-reaction",
   "metadata": {},
   "source": [
    "# References\n",
    "* [official doc](https://help.sonatype.com/repomanager3/repository-manager-concepts/components%2C-repositories%2C-and-repository-formats#Components,Repositories,andRepositoryFormats-Components)"
   ]
  }
 ],
 "metadata": {
  "kernelspec": {
   "display_name": "Python 3",
   "language": "python",
   "name": "python3"
  },
  "language_info": {
   "codemirror_mode": {
    "name": "ipython",
    "version": 3
   },
   "file_extension": ".py",
   "mimetype": "text/x-python",
   "name": "python",
   "nbconvert_exporter": "python",
   "pygments_lexer": "ipython3",
   "version": "3.8.8"
  }
 },
 "nbformat": 4,
 "nbformat_minor": 5
}
