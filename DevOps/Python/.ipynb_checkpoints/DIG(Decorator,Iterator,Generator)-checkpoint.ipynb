{
 "cells": [
  {
   "cell_type": "markdown",
   "id": "conditional-gallery",
   "metadata": {},
   "source": [
    "# Iterator"
   ]
  },
  {
   "cell_type": "markdown",
   "id": "empirical-being",
   "metadata": {},
   "source": [
    "我们可以说只要实现了Iterator 接口(Interface)的类就是Iterator，这个接口包含两个方法：`__iter__()` 和 `__next__()`。"
   ]
  },
  {
   "cell_type": "code",
   "execution_count": 12,
   "id": "material-ballot",
   "metadata": {},
   "outputs": [
    {
     "name": "stdout",
     "output_type": "stream",
     "text": [
      "11\n",
      "12\n",
      "13\n",
      "14\n",
      "15\n"
     ]
    }
   ],
   "source": [
    "# Example of customized Iterator\n",
    "\n",
    "class Counter(object):\n",
    "    def __init__(self, start, end):\n",
    "        self.current = start\n",
    "        self.end = end\n",
    "        \n",
    "    def __iter__(self):\n",
    "        return self\n",
    "    \n",
    "    def __next__(self):\n",
    "        if self.current > self.end:\n",
    "            raise StopIteration\n",
    "            \n",
    "        value = self.current\n",
    "        self.current += 1\n",
    "        return value\n",
    "    \n",
    "    \n",
    "counter = iter(Counter(11, 15))\n",
    "\n",
    "print(next(counter))\n",
    "for c in counter:\n",
    "    print(c)"
   ]
  },
  {
   "cell_type": "markdown",
   "id": "returning-seventh",
   "metadata": {},
   "source": [
    "# Generator"
   ]
  },
  {
   "cell_type": "markdown",
   "id": "comparable-hypothetical",
   "metadata": {},
   "source": [
    "生成器的本质是函数（Function）形式的迭代器（Iterator），而不是类（class）形式的迭代器。生成器函数被`next()`调用以后，会执行到`yield`语句，并将`yield`后面的值返回，下一次再被`next()`调用的时候，会继续执行后面的语句，直到下一个`yield`。"
   ]
  },
  {
   "cell_type": "code",
   "execution_count": 17,
   "id": "insured-collaboration",
   "metadata": {},
   "outputs": [
    {
     "name": "stdout",
     "output_type": "stream",
     "text": [
      "10\n",
      "10\n",
      "11\n",
      "12\n",
      "13\n",
      "14\n",
      "15\n"
     ]
    }
   ],
   "source": [
    "# Example of Generator\n",
    "def Generator(start, stop):\n",
    "    for c in range(start, stop+1):\n",
    "        yield c\n",
    "        \n",
    "print(next(Generator(10, 15)))\n",
    "\n",
    "for c in Generator(10, 15):\n",
    "    print(c)"
   ]
  },
  {
   "cell_type": "markdown",
   "id": "fifty-latex",
   "metadata": {},
   "source": [
    "## 生成器表达式（Generator Expression）"
   ]
  },
  {
   "cell_type": "code",
   "execution_count": 23,
   "id": "selected-seafood",
   "metadata": {},
   "outputs": [
    {
     "name": "stdout",
     "output_type": "stream",
     "text": [
      "<class 'generator'>\n",
      "<generator object <genexpr> at 0x7f43a8118970>\n",
      "0\n",
      "2\n",
      "4\n",
      "6\n",
      "8\n"
     ]
    }
   ],
   "source": [
    "even = (e for e in range(10) if e % 2 == 0) # ()内的内容就是生成器表达式\n",
    "print(type(even))\n",
    "print(even)\n",
    "\n",
    "for e in even:\n",
    "    print(e)\n"
   ]
  },
  {
   "cell_type": "markdown",
   "id": "framed-logistics",
   "metadata": {},
   "source": [
    "我们也可以用生成器表达式来创建List，set"
   ]
  },
  {
   "cell_type": "code",
   "execution_count": 25,
   "id": "affected-ultimate",
   "metadata": {},
   "outputs": [
    {
     "name": "stdout",
     "output_type": "stream",
     "text": [
      "[1, 3, 5, 7, 9]\n",
      "<class 'list'>\n",
      "1\n",
      "3\n",
      "5\n",
      "7\n",
      "9\n"
     ]
    }
   ],
   "source": [
    "odd = [o for o in range(10) if o % 2 != 0] # 注意这里用的是[]\n",
    "print(odd)\n",
    "print(type(odd))\n",
    "\n",
    "for o in odd:\n",
    "    print(o)\n"
   ]
  },
  {
   "cell_type": "code",
   "execution_count": 26,
   "id": "fleet-mississippi",
   "metadata": {},
   "outputs": [
    {
     "name": "stdout",
     "output_type": "stream",
     "text": [
      "{1, 3, 5, 7, 9}\n",
      "<class 'set'>\n",
      "1\n",
      "3\n",
      "5\n",
      "7\n",
      "9\n"
     ]
    }
   ],
   "source": [
    "odd = {o for o in range(10) if o % 2 != 0}\n",
    "print(odd)\n",
    "print(type(odd))\n",
    "\n",
    "for o in odd:\n",
    "    print(o)"
   ]
  },
  {
   "cell_type": "markdown",
   "id": "muslim-attachment",
   "metadata": {},
   "source": [
    "生成器表达式必须在括号内使用，包括函数的参数括号"
   ]
  },
  {
   "cell_type": "code",
   "execution_count": 27,
   "id": "latest-reader",
   "metadata": {},
   "outputs": [
    {
     "name": "stdout",
     "output_type": "stream",
     "text": [
      "20\n"
     ]
    }
   ],
   "source": [
    "result = sum(e for e in range(10) if e % 2 == 0)\n",
    "print(result)"
   ]
  },
  {
   "cell_type": "markdown",
   "id": "dominican-capture",
   "metadata": {},
   "source": [
    "# Decorator"
   ]
  },
  {
   "cell_type": "markdown",
   "id": "specified-latex",
   "metadata": {},
   "source": [
    "修饰器，顾名思义就是高阶函数，接受一个函数参数，在运行该函数的前后可以执行一些其他的命令，最典型的应用就是记录日志。"
   ]
  },
  {
   "cell_type": "code",
   "execution_count": 28,
   "id": "sound-lawrence",
   "metadata": {},
   "outputs": [
    {
     "name": "stdout",
     "output_type": "stream",
     "text": [
      "this is fun_a\n",
      "this is a logging statement before the func run\n",
      "this is fun_a\n",
      "this is a logging statement after the fun run\n"
     ]
    }
   ],
   "source": [
    "def a_decorator(fun):\n",
    "    def wrapper():\n",
    "        print(\"this is a logging statement before the func run\")\n",
    "        fun()\n",
    "        print(\"this is a logging statement after the fun run\")\n",
    "    return wrapper()\n",
    "\n",
    "def fun_a():\n",
    "    print(\"this is fun_a\")\n",
    "    \n",
    "fun_a()\n",
    "a_decorator(fun_a)"
   ]
  },
  {
   "cell_type": "markdown",
   "id": "opponent-murder",
   "metadata": {},
   "source": [
    "Python 为decorator 提供了一种通过注解调用的方式："
   ]
  },
  {
   "cell_type": "code",
   "execution_count": 31,
   "id": "sporting-russian",
   "metadata": {},
   "outputs": [
    {
     "name": "stdout",
     "output_type": "stream",
     "text": [
      "this is a logging statement before the func run\n",
      "this is fun_a\n",
      "this is a logging statement after the fun run\n"
     ]
    }
   ],
   "source": [
    "def a_decorator(fun):\n",
    "    def wrapper():\n",
    "        print(\"this is a logging statement before the func run\")\n",
    "        fun()\n",
    "        print(\"this is a logging statement after the fun run\")\n",
    "    return wrapper # 注意，这里没有调用函数，只是返回了函数\n",
    "\n",
    "@a_decorator\n",
    "def fun_a():\n",
    "    print(\"this is fun_a\")\n",
    "    \n",
    "fun_a()"
   ]
  },
  {
   "cell_type": "markdown",
   "id": "fewer-violin",
   "metadata": {},
   "source": [
    "一个方法可以被多个修饰器修饰："
   ]
  },
  {
   "cell_type": "code",
   "execution_count": 33,
   "id": "atlantic-quarterly",
   "metadata": {},
   "outputs": [
    {
     "name": "stdout",
     "output_type": "stream",
     "text": [
      "<strong>THE QUICK BROWN FOX JUMPS OVER THE LAZY DOG.</strong>\n"
     ]
    }
   ],
   "source": [
    "def uppercase(func):\n",
    "    def wrapper():\n",
    "        original_result = func()\n",
    "        modified_restult = original_result.upper()\n",
    "        return modified_restult\n",
    "    return wrapper\n",
    "def strong(func):\n",
    "    def wrapper():\n",
    "        original_result = func()\n",
    "        modified_restult = '<strong>'+original_result+'</strong>'\n",
    "        return modified_restult\n",
    "    return wrapper\n",
    "\n",
    "@strong    # 后执行\n",
    "@uppercase # 先执行\n",
    "def an_output():\n",
    "    return 'The quick brown fox jumps over the lazy dog.'\n",
    "print(an_output())"
   ]
  },
  {
   "cell_type": "markdown",
   "id": "genetic-collect",
   "metadata": {},
   "source": [
    "修饰器的执行顺序是从下往上，可以理解为，从函数本身开始执行，完后，一层一层往上套修饰器。"
   ]
  },
  {
   "cell_type": "markdown",
   "id": "finished-seven",
   "metadata": {},
   "source": [
    "## 带参数函数的修饰器"
   ]
  },
  {
   "cell_type": "code",
   "execution_count": 39,
   "id": "south-astrology",
   "metadata": {},
   "outputs": [
    {
     "name": "stdout",
     "output_type": "stream",
     "text": [
      "You are calling say_hi()\n",
      "with parameter: ('hello', 'cxy') and {}\n",
      "say_hi(('hello', 'cxy'), {}) => hello! cxy\n"
     ]
    }
   ],
   "source": [
    "def trace(func):\n",
    "    def wrapper(*args, **kwargs): # * unpacking list/tuple and ** unpacking dictionary.\n",
    "        print(f\"You are calling {func.__name__}()\")\n",
    "        print(f\"with parameter: {args} and {kwargs}\")\n",
    "        originate_result = func(*args, **kwargs)\n",
    "        print(f\"{func.__name__}({args}, {kwargs}) => {originate_result}\")\n",
    "    return wrapper\n",
    "\n",
    "@trace\n",
    "def say_hi(greeting, name=None):\n",
    "    return f\"{greeting}! {name}\"\n",
    "\n",
    "say_hi(\"hello\", \"cxy\")\n"
   ]
  }
 ],
 "metadata": {
  "kernelspec": {
   "display_name": "Python 3",
   "language": "python",
   "name": "python3"
  },
  "language_info": {
   "codemirror_mode": {
    "name": "ipython",
    "version": 3
   },
   "file_extension": ".py",
   "mimetype": "text/x-python",
   "name": "python",
   "nbconvert_exporter": "python",
   "pygments_lexer": "ipython3",
   "version": "3.8.8"
  }
 },
 "nbformat": 4,
 "nbformat_minor": 5
}
