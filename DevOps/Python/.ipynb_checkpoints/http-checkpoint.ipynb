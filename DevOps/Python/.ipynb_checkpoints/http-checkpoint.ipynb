{
 "cells": [
  {
   "cell_type": "markdown",
   "id": "improving-election",
   "metadata": {},
   "source": [
    "# HTTP"
   ]
  },
  {
   "cell_type": "code",
   "execution_count": 4,
   "id": "minimal-phone",
   "metadata": {},
   "outputs": [
    {
     "data": {
      "text/plain": [
       "200"
      ]
     },
     "execution_count": 4,
     "metadata": {},
     "output_type": "execute_result"
    }
   ],
   "source": [
    "import requests\n",
    "\n",
    "r = requests.get('https://www.baidu.com')\n",
    "r.status_code"
   ]
  }
 ],
 "metadata": {
  "kernelspec": {
   "display_name": "Python 3",
   "language": "python",
   "name": "python3"
  },
  "language_info": {
   "codemirror_mode": {
    "name": "ipython",
    "version": 3
   },
   "file_extension": ".py",
   "mimetype": "text/x-python",
   "name": "python",
   "nbconvert_exporter": "python",
   "pygments_lexer": "ipython3",
   "version": "3.8.8"
  }
 },
 "nbformat": 4,
 "nbformat_minor": 5
}
