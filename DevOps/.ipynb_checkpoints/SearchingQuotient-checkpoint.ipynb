{
 "cells": [
  {
   "cell_type": "markdown",
   "id": "powered-danish",
   "metadata": {},
   "source": [
    "# Searching Quotient(搜商)"
   ]
  },
  {
   "cell_type": "markdown",
   "id": "systematic-wings",
   "metadata": {},
   "source": [
    "## Googling more efficient"
   ]
  },
  {
   "cell_type": "markdown",
   "id": "cognitive-production",
   "metadata": {},
   "source": [
    "### Use quotes(absolute search string with no guessing)\n",
    "If we search for ___Puppy Dog Sweaters___, the engine will search for content that contain those three words in any order.\n",
    "So if we are searching for something spcific, search string with quotes will tell the engine: search things exactly as I typed.\n",
    "\n",
    "This can help locate specific information that may be buried under other content if not sorted out correctly."
   ]
  },
  {
   "cell_type": "markdown",
   "id": "stupid-return",
   "metadata": {},
   "source": [
    "### Use a hyphen to exclude words\n",
    "Sometimes you may find youself searching for a word with an ambiguous meaning, especially in software engineering world. One's name may also used by some tools/frameworks/libraries...\n",
    "\n",
    "For example of ___Prometheus___, you may both get the result of a film made at 2012 and a monitoring system. So if you want cut one out, we can use hyphen(-) to tell the engine ignore content with one of the other: `prometheus -film`.\n",
    "\n",
    "That will tell the engine to search your keyworlds but remove any results that have the hyphen prefixed word in it. It is helpful when finding information about something without getting information about something else."
   ]
  }
 ],
 "metadata": {
  "kernelspec": {
   "display_name": "Python 3",
   "language": "python",
   "name": "python3"
  },
  "language_info": {
   "codemirror_mode": {
    "name": "ipython",
    "version": 3
   },
   "file_extension": ".py",
   "mimetype": "text/x-python",
   "name": "python",
   "nbconvert_exporter": "python",
   "pygments_lexer": "ipython3",
   "version": "3.8.8"
  }
 },
 "nbformat": 4,
 "nbformat_minor": 5
}
