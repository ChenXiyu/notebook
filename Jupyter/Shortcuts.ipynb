{
 "cells": [
  {
   "cell_type": "markdown",
   "id": "theoretical-membrane",
   "metadata": {},
   "source": [
    "## usfull shortcut"
   ]
  },
  {
   "cell_type": "markdown",
   "id": "sharing-inventory",
   "metadata": {},
   "source": [
    "|Function|Mode|shortcut|\n",
    "|-----|----|----|\n",
    "|Turn cell into markdwon mode|Command mode |`m`|\n",
    "|Create new cell|Command mode|`a` (above), `b` (below) |\n",
    "|Turn cell into code mode| Command mode | `y` |\n",
    "|Delete cell|Command mode|`d` + `d`|\n",
    "|Execute cell|Insert mode|`Ctrl` + `Enter` or `Shift` + `Enter`|"
   ]
  }
 ],
 "metadata": {
  "kernelspec": {
   "display_name": "Python 3",
   "language": "python",
   "name": "python3"
  },
  "language_info": {
   "codemirror_mode": {
    "name": "ipython",
    "version": 3
   },
   "file_extension": ".py",
   "mimetype": "text/x-python",
   "name": "python",
   "nbconvert_exporter": "python",
   "pygments_lexer": "ipython3",
   "version": "3.8.8"
  }
 },
 "nbformat": 4,
 "nbformat_minor": 5
}
