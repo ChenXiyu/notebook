{
 "cells": [
  {
   "cell_type": "markdown",
   "id": "exceptional-deviation",
   "metadata": {},
   "source": [
    "# Tips & Tricks"
   ]
  },
  {
   "cell_type": "markdown",
   "id": "confidential-channels",
   "metadata": {},
   "source": [
    "* [themselves or themself?](https://www.lexico.com/grammar/themselves-or-themself)"
   ]
  },
  {
   "cell_type": "markdown",
   "id": "modified-content",
   "metadata": {},
   "source": [
    "# References"
   ]
  },
  {
   "cell_type": "markdown",
   "id": "powerful-practitioner",
   "metadata": {},
   "source": [
    "* https://www.lexico.com/grammar/usage"
   ]
  }
 ],
 "metadata": {
  "kernelspec": {
   "display_name": "Python 3",
   "language": "python",
   "name": "python3"
  },
  "language_info": {
   "codemirror_mode": {
    "name": "ipython",
    "version": 3
   },
   "file_extension": ".py",
   "mimetype": "text/x-python",
   "name": "python",
   "nbconvert_exporter": "python",
   "pygments_lexer": "ipython3",
   "version": "3.8.8"
  }
 },
 "nbformat": 4,
 "nbformat_minor": 5
}
